{
 "cells": [
  {
   "cell_type": "code",
   "execution_count": 1,
   "metadata": {},
   "outputs": [],
   "source": [
    "import os\n",
    "from dotenv import load_dotenv\n",
    "\n",
    "\n",
    "# Load environment variables from .env file\n",
    "load_dotenv()\n",
    "\n",
    "# Main database connection details\n",
    "NEO4J_URI = os.getenv(\"NEO4J_URI\")\n",
    "NEO4J_USERNAME = os.getenv(\"NEO4J_USERNAME\")\n",
    "NEO4J_PASSWORD = os.getenv(\"NEO4J_PASSWORD\")\n",
    "NEO4J_DB_NAME = os.getenv(\"NEO4J_DB_NAME\", \"neo4j\")  # Default to \"neo4j\" if not set\n",
    "\n",
    "# Ontology database connection details\n",
    "NEO4J_URI_ONTOLOGY = os.getenv(\"NEO4J_URI_ONTOLOGY\", NEO4J_URI)  # Fallback to main URI\n",
    "NEO4J_USERNAME_ONTOLOGY = os.getenv(\"NEO4J_USERNAME_ONTOLOGY\", NEO4J_USERNAME)\n",
    "NEO4J_PASSWORD_ONTOLOGY = os.getenv(\"NEO4J_PASSWORD_ONTOLOGY\", NEO4J_PASSWORD)\n",
    "NEO4J_ONTOLOGY_DB_NAME = os.getenv(\"NEO4J_ONTOLOGY_DB_NAME\", \"movie_ontology\")\n"
   ]
  },
  {
   "cell_type": "code",
   "execution_count": 2,
   "metadata": {},
   "outputs": [],
   "source": [
    "from neo4j import GraphDatabase\n",
    "driver_main = GraphDatabase.driver(NEO4J_URI, auth=(NEO4J_USERNAME, NEO4J_PASSWORD))\n",
    "driver_ontology = GraphDatabase.driver(NEO4J_URI_ONTOLOGY, auth=(NEO4J_USERNAME_ONTOLOGY, NEO4J_PASSWORD_ONTOLOGY))"
   ]
  },
  {
   "cell_type": "code",
   "execution_count": 3,
   "metadata": {},
   "outputs": [
    {
     "name": "stdout",
     "output_type": "stream",
     "text": [
      "MATCH (p:Person) WHERE EXISTS {(p)-[:ACTED_IN]->()}\n",
      "        CALL (p) {\n",
      "            SET p:_PersonActedInSome\n",
      "        } IN TRANSACTIONS OF 100 ROWS\n",
      "MATCH (p:Person) WHERE EXISTS {(p)-[:DIRECTED]->()}\n",
      "        CALL (p) {\n",
      "            SET p:_PersonDirectedSome\n",
      "        } IN TRANSACTIONS OF 100 ROWS\n",
      "MATCH (p:Person {name: 'Kevin Bacon'})\n",
      "        CALL (p) {\n",
      "            SET p:_KevinBacon\n",
      "        } IN TRANSACTIONS OF 100 ROWS\n",
      "MATCH (p:Person {name: 'Emil Eifrem'})\n",
      "        CALL (p) {\n",
      "            SET p:_EasterEggActor\n",
      "        } IN TRANSACTIONS OF 100 ROWS\n"
     ]
    }
   ],
   "source": [
    "def genPatternDefinedLabelInferenceQueries():\n",
    "    records, summary, keys = driver_ontology.execute_query(\n",
    "        \"\"\"MATCH (mdl:PatternDefinedLabel)\n",
    "        RETURN mdl.name AS name, mdl.pattern AS pattern, mdl.classElementVariable AS classElementVariable\"\"\",\n",
    "        database_=NEO4J_ONTOLOGY_DB_NAME,\n",
    "    )\n",
    "    for record in records:\n",
    "        query = f\"\"\"MATCH {record['pattern']}\n",
    "        CALL ({record['classElementVariable']}) {{\n",
    "            SET {record['classElementVariable']}:{record['name']}\n",
    "        }} IN TRANSACTIONS OF 100 ROWS\"\"\"\n",
    "        yield query\n",
    "\n",
    "for q in genPatternDefinedLabelInferenceQueries():\n",
    "    print(q)\n"
   ]
  },
  {
   "cell_type": "code",
   "execution_count": 4,
   "metadata": {},
   "outputs": [
    {
     "name": "stdout",
     "output_type": "stream",
     "text": [
      "MATCH (s:Person)-[:ACTED_IN]->()<-[:ACTED_IN]-(t:Person)\n",
      "        CALL (s, t) {\n",
      "        MERGE (s)-[:_COACTOR]->(t)\n",
      "        } IN TRANSACTIONS OF 100 ROWS\n",
      "MATCH (s:Person)-[:INVOLVED_IN]->()<-[:INVOLVED_IN]-(t:Person)\n",
      "        CALL (s, t) {\n",
      "        MERGE (s)-[:_COLLABORATOR]->(t)\n",
      "        } IN TRANSACTIONS OF 100 ROWS\n"
     ]
    }
   ],
   "source": [
    "def genPatternDefinedRelationshipInferenceQueries():\n",
    "    records, summary, keys = driver_ontology.execute_query(\n",
    "        \"\"\"MATCH (mdr:PatternDefinedRelationship)\n",
    "        RETURN mdr.name AS name, mdr.pattern AS pattern, mdr.sourceElementVariable AS sourceElementVariable, mdr.targetElementVariable AS targetElementVariable\"\"\",\n",
    "        database_=NEO4J_ONTOLOGY_DB_NAME,\n",
    "    )\n",
    "    for record in records:\n",
    "        query = f\"\"\"MATCH {record['pattern']}\n",
    "        CALL ({record['sourceElementVariable']}, {record['targetElementVariable']}) {{\n",
    "        MERGE ({record['sourceElementVariable']})-[:{record['name']}]->({record['targetElementVariable']})\n",
    "        }} IN TRANSACTIONS OF 100 ROWS\"\"\"\n",
    "        yield query\n",
    "\n",
    "for q in genPatternDefinedRelationshipInferenceQueries():\n",
    "    print(q)\n"
   ]
  },
  {
   "cell_type": "code",
   "execution_count": 5,
   "metadata": {},
   "outputs": [
    {
     "name": "stdout",
     "output_type": "stream",
     "text": [
      "MATCH (n:Actor)\n",
      "        CALL (n) {\n",
      "        SET n:Person\n",
      "        } IN CONCURRENT TRANSACTIONS OF 100 ROWS\n",
      "MATCH (n:Director)\n",
      "        CALL (n) {\n",
      "        SET n:Person\n",
      "        } IN CONCURRENT TRANSACTIONS OF 100 ROWS\n",
      "MATCH (n:_KevinBacon)\n",
      "        CALL (n) {\n",
      "        SET n:Actor\n",
      "        } IN CONCURRENT TRANSACTIONS OF 100 ROWS\n",
      "MATCH (n:_EasterEggActor)\n",
      "        CALL (n) {\n",
      "        SET n:Actor\n",
      "        } IN CONCURRENT TRANSACTIONS OF 100 ROWS\n",
      "MATCH (n:_EasterEggActor)\n",
      "        CALL (n) {\n",
      "        SET n:Anomalous\n",
      "        } IN CONCURRENT TRANSACTIONS OF 100 ROWS\n"
     ]
    }
   ],
   "source": [
    "def genSCOLabelInferenceQueries():\n",
    "    records, summary, keys = driver_ontology.execute_query(\n",
    "        \"\"\"MATCH (narrower:Label)-[:SCO]->(broader:Label)\n",
    "        RETURN narrower.name AS narrower, broader.name AS broader\"\"\",\n",
    "        database_=NEO4J_ONTOLOGY_DB_NAME,\n",
    "    )\n",
    "    for record in records:\n",
    "        query = f\"\"\"MATCH (n:{record['narrower']})\n",
    "        CALL (n) {{\n",
    "        SET n:{record['broader']}\n",
    "        }} IN CONCURRENT TRANSACTIONS OF 100 ROWS\"\"\"\n",
    "        yield query\n",
    "\n",
    "for q in genSCOLabelInferenceQueries():\n",
    "    print(q)"
   ]
  },
  {
   "cell_type": "code",
   "execution_count": 6,
   "metadata": {},
   "outputs": [
    {
     "name": "stdout",
     "output_type": "stream",
     "text": [
      "MATCH (n)-[:ACTED_IN]->(m)\n",
      "        CALL (n, m) {\n",
      "        MERGE (n)-[:INVOLVED_IN]->(m)\n",
      "        } IN TRANSACTIONS OF 100 ROWS\n",
      "MATCH (n)-[:DIRECTED]->(m)\n",
      "        CALL (n, m) {\n",
      "        MERGE (n)-[:INVOLVED_IN]->(m)\n",
      "        } IN TRANSACTIONS OF 100 ROWS\n",
      "MATCH (n)-[:COACTOR]->(m)\n",
      "        CALL (n, m) {\n",
      "        MERGE (n)-[:COLLABORATOR]->(m)\n",
      "        } IN TRANSACTIONS OF 100 ROWS\n"
     ]
    }
   ],
   "source": [
    "def genImpliesRelationshipInferenceQueries():\n",
    "    records, summary, keys = driver_ontology.execute_query(\n",
    "        \"\"\"MATCH (narrower:Relationship)-[:IMPLIES]->(broader:Relationship)\n",
    "        RETURN narrower.name AS narrower, broader.name AS broader\"\"\",\n",
    "        database_=NEO4J_ONTOLOGY_DB_NAME,\n",
    "    )\n",
    "    for record in records:\n",
    "        query = f\"\"\"MATCH (n)-[:{record['narrower']}]->(m)\n",
    "        CALL (n, m) {{\n",
    "        MERGE (n)-[:{record['broader']}]->(m)\n",
    "        }} IN TRANSACTIONS OF 100 ROWS\"\"\"\n",
    "        yield query\n",
    "\n",
    "for q in genImpliesRelationshipInferenceQueries():\n",
    "    print(q)"
   ]
  },
  {
   "cell_type": "code",
   "execution_count": 7,
   "metadata": {},
   "outputs": [
    {
     "name": "stdout",
     "output_type": "stream",
     "text": [
      "MATCH (n:_PersonActedInSome|Actor)\n",
      "        CALL (n) {\n",
      "            SET n:_PersonActedInSome:Actor\n",
      "        } IN CONCURRENT TRANSACTIONS OF 100 ROWS\n",
      "MATCH (n:_PersonDirectedSome|Director)\n",
      "        CALL (n) {\n",
      "            SET n:_PersonDirectedSome:Director\n",
      "        } IN CONCURRENT TRANSACTIONS OF 100 ROWS\n"
     ]
    }
   ],
   "source": [
    "def genEquivalentLabelInferenceQueries():\n",
    "    records, summary, keys = driver_ontology.execute_query(\n",
    "        \"\"\"MATCH (l1:Label)-[:EQUIVALENT]->(l2:Label)\n",
    "        RETURN l1.name AS l1, l2.name AS l2\"\"\",\n",
    "        database_=NEO4J_ONTOLOGY_DB_NAME,\n",
    "    )\n",
    "    for record in records:\n",
    "        query = f\"\"\"MATCH (n:{record['l1']}|{record['l2']})\n",
    "        CALL (n) {{\n",
    "            SET n:{record['l1']}:{record['l2']}\n",
    "        }} IN CONCURRENT TRANSACTIONS OF 100 ROWS\"\"\"\n",
    "        yield query\n",
    "\n",
    "for q in genEquivalentLabelInferenceQueries():\n",
    "    print(q)"
   ]
  },
  {
   "cell_type": "code",
   "execution_count": 8,
   "metadata": {},
   "outputs": [
    {
     "name": "stdout",
     "output_type": "stream",
     "text": [
      "MATCH (n)-[:_COACTOR|COACTOR]->(m)\n",
      "        CALL (n, m) {\n",
      "            MERGE (n)-[:_COACTOR]->(m)\n",
      "            MERGE (n)-[:COACTOR]->(m)\n",
      "        } IN TRANSACTIONS OF 100 ROWS\n",
      "MATCH (n)-[:_COLLABORATOR|COLLABORATOR]->(m)\n",
      "        CALL (n, m) {\n",
      "            MERGE (n)-[:_COLLABORATOR]->(m)\n",
      "            MERGE (n)-[:COLLABORATOR]->(m)\n",
      "        } IN TRANSACTIONS OF 100 ROWS\n"
     ]
    }
   ],
   "source": [
    "def genEquivalentRelationshipInferenceQueries():\n",
    "    records, summary, keys = driver_ontology.execute_query(\n",
    "        \"\"\"MATCH (r1:Relationship)-[:EQUIVALENT]->(r2:Relationship)\n",
    "        RETURN r1.name AS r1, r2.name AS r2\"\"\",\n",
    "        database_=NEO4J_ONTOLOGY_DB_NAME,\n",
    "    )\n",
    "    for record in records:\n",
    "        query = f\"\"\"MATCH (n)-[:{record['r1']}|{record['r2']}]->(m)\n",
    "        CALL (n, m) {{\n",
    "            MERGE (n)-[:{record['r1']}]->(m)\n",
    "            MERGE (n)-[:{record['r2']}]->(m)\n",
    "        }} IN TRANSACTIONS OF 100 ROWS\"\"\"\n",
    "        yield query\n",
    "\n",
    "for q in genEquivalentRelationshipInferenceQueries():\n",
    "    print(q)"
   ]
  },
  {
   "cell_type": "code",
   "execution_count": 9,
   "metadata": {},
   "outputs": [
    {
     "name": "stdout",
     "output_type": "stream",
     "text": [
      "MATCH (n)-[:COACTOR]->(m)\n",
      "        CALL (n, m) {\n",
      "            MERGE (m)-[:COACTOR]->(n)\n",
      "        } IN TRANSACTIONS OF 100 ROWS\n",
      "MATCH (n)-[:COLLABORATOR]->(m)\n",
      "        CALL (n, m) {\n",
      "            MERGE (m)-[:COLLABORATOR]->(n)\n",
      "        } IN TRANSACTIONS OF 100 ROWS\n",
      "MATCH (n)-[:_COACTOR]->(m)\n",
      "        CALL (n, m) {\n",
      "            MERGE (m)-[:_COACTOR]->(n)\n",
      "        } IN TRANSACTIONS OF 100 ROWS\n",
      "MATCH (n)-[:_COLLABORATOR]->(m)\n",
      "        CALL (n, m) {\n",
      "            MERGE (m)-[:_COLLABORATOR]->(n)\n",
      "        } IN TRANSACTIONS OF 100 ROWS\n"
     ]
    }
   ],
   "source": [
    "def genSymmetricRelationshipInferenceQueries():\n",
    "    records, summary, keys = driver_ontology.execute_query(\n",
    "        \"\"\"MATCH (r:Relationship&Symmetric)\n",
    "        RETURN r.name AS sim_rel\"\"\",\n",
    "        database_=NEO4J_ONTOLOGY_DB_NAME,\n",
    "    )\n",
    "    for record in records:\n",
    "        query = f\"\"\"MATCH (n)-[:{record['sim_rel']}]->(m)\n",
    "        CALL (n, m) {{\n",
    "            MERGE (m)-[:{record['sim_rel']}]->(n)\n",
    "        }} IN TRANSACTIONS OF 100 ROWS\"\"\"\n",
    "        yield query\n",
    "\n",
    "for q in genSymmetricRelationshipInferenceQueries():\n",
    "    print(q)"
   ]
  },
  {
   "cell_type": "code",
   "execution_count": 10,
   "metadata": {},
   "outputs": [
    {
     "name": "stdout",
     "output_type": "stream",
     "text": [
      "MATCH (x:Actor)\n",
      "        CALL (x) {\n",
      "            MATCH SHORTEST 1 (x)-[ca:COACTOR]-*(y:_KevinBacon) WITH ca LIMIT 1 WITH size(ca) AS kbn\n",
      "            WITH x, kbn\n",
      "            WHERE x.kb_number IS NULL OR x.kb_number <> kbn\n",
      "            SET x.kb_number = kbn\n",
      "            } IN CONCURRENT TRANSACTIONS OF 100 ROWS\n"
     ]
    }
   ],
   "source": [
    "def genPatternDefinedNodePropertyInferenceQueries():\n",
    "    records, summary, keys = driver_ontology.execute_query(\n",
    "        \"\"\"MATCH (n:Label)-[:HAS_PROPERTY]->(qdp:PatternDefinedNodeProperty)\n",
    "        RETURN n.name AS label, qdp.name AS property_name, qdp.pattern AS pattern, qdp.propertyOwnerVariable AS variable, qdp.valueVariable AS val_variable\"\"\",\n",
    "        database_=NEO4J_ONTOLOGY_DB_NAME,\n",
    "    )\n",
    "    for record in records:\n",
    "        query = f\"\"\"MATCH ({record['variable']}:{record['label']})\n",
    "        CALL ({record['variable']}) {{\n",
    "            MATCH {record['pattern']}\n",
    "            WITH {record['variable']}, {record['val_variable']}\n",
    "            WHERE {record['variable']}.{record['property_name']} IS NULL OR {record['variable']}.{record['property_name']} <> {record['val_variable']}\n",
    "            SET {record['variable']}.{record['property_name']} = {record['val_variable']}\n",
    "            }} IN CONCURRENT TRANSACTIONS OF 100 ROWS\"\"\"\n",
    "        yield query\n",
    "\n",
    "for q in genPatternDefinedNodePropertyInferenceQueries():\n",
    "    print(q)"
   ]
  },
  {
   "cell_type": "code",
   "execution_count": 11,
   "metadata": {},
   "outputs": [
    {
     "data": {
      "text/plain": [
       "['MATCH (p:Person) WHERE EXISTS {(p)-[:ACTED_IN]->()}\\n        CALL (p) {\\n            SET p:_PersonActedInSome\\n        } IN TRANSACTIONS OF 100 ROWS',\n",
       " 'MATCH (p:Person) WHERE EXISTS {(p)-[:DIRECTED]->()}\\n        CALL (p) {\\n            SET p:_PersonDirectedSome\\n        } IN TRANSACTIONS OF 100 ROWS',\n",
       " \"MATCH (p:Person {name: 'Kevin Bacon'})\\n        CALL (p) {\\n            SET p:_KevinBacon\\n        } IN TRANSACTIONS OF 100 ROWS\",\n",
       " \"MATCH (p:Person {name: 'Emil Eifrem'})\\n        CALL (p) {\\n            SET p:_EasterEggActor\\n        } IN TRANSACTIONS OF 100 ROWS\",\n",
       " 'MATCH (s:Person)-[:ACTED_IN]->()<-[:ACTED_IN]-(t:Person)\\n        CALL (s, t) {\\n        MERGE (s)-[:_COACTOR]->(t)\\n        } IN TRANSACTIONS OF 100 ROWS',\n",
       " 'MATCH (s:Person)-[:INVOLVED_IN]->()<-[:INVOLVED_IN]-(t:Person)\\n        CALL (s, t) {\\n        MERGE (s)-[:_COLLABORATOR]->(t)\\n        } IN TRANSACTIONS OF 100 ROWS',\n",
       " 'MATCH (n:Actor)\\n        CALL (n) {\\n        SET n:Person\\n        } IN CONCURRENT TRANSACTIONS OF 100 ROWS',\n",
       " 'MATCH (n:Director)\\n        CALL (n) {\\n        SET n:Person\\n        } IN CONCURRENT TRANSACTIONS OF 100 ROWS',\n",
       " 'MATCH (n:_KevinBacon)\\n        CALL (n) {\\n        SET n:Actor\\n        } IN CONCURRENT TRANSACTIONS OF 100 ROWS',\n",
       " 'MATCH (n:_EasterEggActor)\\n        CALL (n) {\\n        SET n:Actor\\n        } IN CONCURRENT TRANSACTIONS OF 100 ROWS',\n",
       " 'MATCH (n:_EasterEggActor)\\n        CALL (n) {\\n        SET n:Anomalous\\n        } IN CONCURRENT TRANSACTIONS OF 100 ROWS',\n",
       " 'MATCH (n)-[:ACTED_IN]->(m)\\n        CALL (n, m) {\\n        MERGE (n)-[:INVOLVED_IN]->(m)\\n        } IN TRANSACTIONS OF 100 ROWS',\n",
       " 'MATCH (n)-[:DIRECTED]->(m)\\n        CALL (n, m) {\\n        MERGE (n)-[:INVOLVED_IN]->(m)\\n        } IN TRANSACTIONS OF 100 ROWS',\n",
       " 'MATCH (n)-[:COACTOR]->(m)\\n        CALL (n, m) {\\n        MERGE (n)-[:COLLABORATOR]->(m)\\n        } IN TRANSACTIONS OF 100 ROWS',\n",
       " 'MATCH (n:_PersonActedInSome|Actor)\\n        CALL (n) {\\n            SET n:_PersonActedInSome:Actor\\n        } IN CONCURRENT TRANSACTIONS OF 100 ROWS',\n",
       " 'MATCH (n:_PersonDirectedSome|Director)\\n        CALL (n) {\\n            SET n:_PersonDirectedSome:Director\\n        } IN CONCURRENT TRANSACTIONS OF 100 ROWS',\n",
       " 'MATCH (n)-[:_COACTOR|COACTOR]->(m)\\n        CALL (n, m) {\\n            MERGE (n)-[:_COACTOR]->(m)\\n            MERGE (n)-[:COACTOR]->(m)\\n        } IN TRANSACTIONS OF 100 ROWS',\n",
       " 'MATCH (n)-[:_COLLABORATOR|COLLABORATOR]->(m)\\n        CALL (n, m) {\\n            MERGE (n)-[:_COLLABORATOR]->(m)\\n            MERGE (n)-[:COLLABORATOR]->(m)\\n        } IN TRANSACTIONS OF 100 ROWS',\n",
       " 'MATCH (n)-[:COACTOR]->(m)\\n        CALL (n, m) {\\n            MERGE (m)-[:COACTOR]->(n)\\n        } IN TRANSACTIONS OF 100 ROWS',\n",
       " 'MATCH (n)-[:COLLABORATOR]->(m)\\n        CALL (n, m) {\\n            MERGE (m)-[:COLLABORATOR]->(n)\\n        } IN TRANSACTIONS OF 100 ROWS',\n",
       " 'MATCH (n)-[:_COACTOR]->(m)\\n        CALL (n, m) {\\n            MERGE (m)-[:_COACTOR]->(n)\\n        } IN TRANSACTIONS OF 100 ROWS',\n",
       " 'MATCH (n)-[:_COLLABORATOR]->(m)\\n        CALL (n, m) {\\n            MERGE (m)-[:_COLLABORATOR]->(n)\\n        } IN TRANSACTIONS OF 100 ROWS',\n",
       " 'MATCH (x:Actor)\\n        CALL (x) {\\n            MATCH SHORTEST 1 (x)-[ca:COACTOR]-*(y:_KevinBacon) WITH ca LIMIT 1 WITH size(ca) AS kbn\\n            WITH x, kbn\\n            WHERE x.kb_number IS NULL OR x.kb_number <> kbn\\n            SET x.kb_number = kbn\\n            } IN CONCURRENT TRANSACTIONS OF 100 ROWS']"
      ]
     },
     "execution_count": 11,
     "metadata": {},
     "output_type": "execute_result"
    }
   ],
   "source": [
    "inferenceRulesGenerators = [genPatternDefinedLabelInferenceQueries,\n",
    "                            genPatternDefinedRelationshipInferenceQueries,\n",
    "                            genSCOLabelInferenceQueries,\n",
    "                            genImpliesRelationshipInferenceQueries,\n",
    "                            genEquivalentLabelInferenceQueries,\n",
    "                            genEquivalentRelationshipInferenceQueries,\n",
    "                            genSymmetricRelationshipInferenceQueries,\n",
    "                            genPatternDefinedNodePropertyInferenceQueries]\n",
    "\n",
    "def genOntologyInferenceQueries(inferenceRulesGenerators):\n",
    "    for rule in inferenceRulesGenerators:\n",
    "        for q in rule():\n",
    "            yield q\n",
    "\n",
    "list(genOntologyInferenceQueries(inferenceRulesGenerators))"
   ]
  },
  {
   "cell_type": "code",
   "execution_count": 12,
   "metadata": {},
   "outputs": [],
   "source": [
    "def infer (rules, params={}):\n",
    "    \"\"\"\n",
    "    This is a function you can use if you want to run a set of inference rules\n",
    "    until a convergence is reached. why not use it in a RDF-like reasoning context?\n",
    "    \"\"\"\n",
    "    counter = 0\n",
    "    while True:\n",
    "        counter += 1\n",
    "        any_update = False\n",
    "        for rule in rules:\n",
    "            with driver_main.session(database=NEO4J_DB_NAME) as session:\n",
    "                result = session.run(rule, params)\n",
    "            any_new_update = result.consume().counters._contains_updates\n",
    "            any_update = any_update or any_new_update\n",
    "        if not any_update:\n",
    "            break"
   ]
  },
  {
   "cell_type": "code",
   "execution_count": 13,
   "metadata": {},
   "outputs": [],
   "source": [
    "def infer_once (rules, params={}):\n",
    "    with driver_main.session(database=NEO4J_DB_NAME) as session:\n",
    "        for rule in rules:\n",
    "            session.run(rule, params)"
   ]
  },
  {
   "cell_type": "code",
   "execution_count": 14,
   "metadata": {},
   "outputs": [],
   "source": [
    "infer(list(genOntologyInferenceQueries(inferenceRulesGenerators)))"
   ]
  },
  {
   "cell_type": "markdown",
   "metadata": {},
   "source": []
  },
  {
   "cell_type": "code",
   "execution_count": null,
   "metadata": {},
   "outputs": [],
   "source": [
    "import getopt\n",
    "import json\n",
    "import sys\n",
    "import time\n",
    "from threading import Thread\n",
    "\n",
    "from neo4j import GraphDatabase\n",
    "\n",
    "\n",
    "class CDCService:\n",
    "    def __init__(self, driver, database, start_cursor=None, selectors=None):\n",
    "        self.driver = driver\n",
    "        self.database = database\n",
    "        self.cursor = start_cursor\n",
    "        if self.cursor is None:\n",
    "            self.cursor = self.current_change_id()\n",
    "        self.selectors = selectors\n",
    "\n",
    "    def apply_change(self):\n",
    "        infer_once(list(genOntologyInferenceQueries(inferenceRulesGenerators)))\n",
    "        print(\"infer_once called\")\n",
    "\n",
    "    def query_changes_query(self, tx):\n",
    "        current = self.current_change_id()\n",
    "        result = tx.run('CALL db.cdc.query($cursor, $selectors)',\n",
    "                        cursor=self.cursor, selectors=self.selectors)\n",
    "        if result.peek() == None:\n",
    "            self.cursor = current\n",
    "        else:\n",
    "            #for record in result:\n",
    "            try:\n",
    "                self.apply_change()\n",
    "            except Exception as e:\n",
    "                print('Error whilst applying change', e)\n",
    "            for record in result:\n",
    "                self.cursor = record['id']\n",
    "\n",
    "    def query_changes(self):\n",
    "        with self.driver.session(database=self.database) as session:\n",
    "            session.execute_read(self.query_changes_query)\n",
    "\n",
    "    def earliest_change_id(self):\n",
    "        records, _, _ = self.driver.execute_query(\n",
    "            'CALL db.cdc.earliest', database_=self.database)\n",
    "        return records[0]['id']\n",
    "\n",
    "    def current_change_id(self):\n",
    "        records, _, _ = self.driver.execute_query(\n",
    "            'CALL db.cdc.current', database_=self.database)\n",
    "        return records[0]['id']\n",
    "\n",
    "    def run(self):\n",
    "        while True:\n",
    "            self.query_changes()\n",
    "            time.sleep(0.5)\n",
    "\n",
    "\n",
    "def main(argv):\n",
    "    # Default values\n",
    "    address = NEO4J_URI\n",
    "    database = NEO4J_DB_NAME\n",
    "    username = NEO4J_USERNAME\n",
    "    password = NEO4J_PASSWORD\n",
    "    cursor = None\n",
    "\n",
    "    opts, _ = getopt.getopt(\n",
    "        argv, 'a:d:u:p:f:',\n",
    "        ['address=', 'database=', 'username=', 'password=', 'from='])\n",
    "    for opt, arg in opts:\n",
    "        if opt in ('-a', '--address'):\n",
    "            address = arg\n",
    "        elif opt in ('-d', '--database'):\n",
    "            database = arg\n",
    "        elif opt in ('-u', '--username'):\n",
    "            username = arg\n",
    "        elif opt in ('-p', '--password'):\n",
    "            password = arg\n",
    "        elif opt in ('-f', '--from'):\n",
    "            cursor = arg\n",
    "\n",
    "    selectors = [\n",
    "        # {'select': 'n'}\n",
    "    ]\n",
    "\n",
    "    with GraphDatabase.driver(address, auth=(username, password)) as driver:\n",
    "        cdc = CDCService(driver, database, cursor, selectors)\n",
    "        cdc_thread = Thread(target=cdc.run, daemon=True)\n",
    "        cdc_thread.start()\n",
    "        cdc_thread.join()\n",
    "\n",
    "\n",
    "#if __name__ == '__main__':\n",
    "#    main(sys.argv[1:])\n",
    "\n",
    "main(NEO4J_URI+':'+NEO4J_DB_NAME+':'+NEO4J_USERNAME+':'+NEO4J_PASSWORD+':')"
   ]
  }
 ],
 "metadata": {
  "kernelspec": {
   "display_name": ".venv",
   "language": "python",
   "name": "python3"
  },
  "language_info": {
   "codemirror_mode": {
    "name": "ipython",
    "version": 3
   },
   "file_extension": ".py",
   "mimetype": "text/x-python",
   "name": "python",
   "nbconvert_exporter": "python",
   "pygments_lexer": "ipython3",
   "version": "3.13.1"
  }
 },
 "nbformat": 4,
 "nbformat_minor": 2
}
