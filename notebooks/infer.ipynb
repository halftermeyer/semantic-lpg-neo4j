{
 "cells": [
  {
   "cell_type": "code",
   "execution_count": 18,
   "metadata": {},
   "outputs": [],
   "source": [
    "import os\n",
    "\n",
    "\n",
    "# main db connection data \n",
    "NEO4J_URI = os.environ['NEO4J_URI']\n",
    "NEO4J_USERNAME = os.environ['NEO4J_USERNAME']\n",
    "NEO4J_PASSWORD = os.environ['NEO4J_PASSWORD']\n",
    "\n",
    "\n",
    "# ontology db connection data\n",
    "NEO4J_URI_ONTOLOGY = os.environ['NEO4J_URI_ONTOLOGY']\n",
    "NEO4J_USERNAME_ONTOLOGY = os.environ['NEO4J_USERNAME_ONTOLOGY']\n",
    "NEO4J_PASSWORD_ONTOLOGY = os.environ['NEO4J_PASSWORD_ONTOLOGY']\n",
    "NEO4J_ONTOLOGY_DB_NAME = os.environ['NEO4J_ONTOLOGY_DB_NAME']\n",
    "NEO4J_DB_NAME = os.environ['NEO4J_DB_NAME']"
   ]
  },
  {
   "cell_type": "code",
   "execution_count": 19,
   "metadata": {},
   "outputs": [],
   "source": [
    "from neo4j import GraphDatabase\n",
    "driver_main = GraphDatabase.driver(NEO4J_URI, auth=(NEO4J_USERNAME, NEO4J_PASSWORD))\n",
    "driver_ontology = GraphDatabase.driver(NEO4J_URI, auth=(NEO4J_USERNAME, NEO4J_PASSWORD))"
   ]
  },
  {
   "cell_type": "code",
   "execution_count": 20,
   "metadata": {},
   "outputs": [
    {
     "name": "stdout",
     "output_type": "stream",
     "text": [
      "MATCH (p:Person) WHERE EXISTS {(p)-[:DIRECTED]->()} SET p:_PersonDirectedSome\n",
      "MATCH (p:Person) WHERE EXISTS {(p)-[:ACTED_IN]->()} SET p:_PersonActedInSome\n"
     ]
    }
   ],
   "source": [
    "def genPatternDefinedLabelInferenceQueries():\n",
    "    records, summary, keys = driver_ontology.execute_query(\n",
    "        \"\"\"MATCH (mdl:PatternDefinedLabel)\n",
    "        RETURN mdl.name AS name, mdl.pattern AS pattern, mdl.classElementVariable AS classElementVariable\"\"\",\n",
    "        database_=NEO4J_ONTOLOGY_DB_NAME,\n",
    "    )\n",
    "    for record in records:\n",
    "        query = f\"MATCH {record['pattern']} SET {record['classElementVariable']}:{record['name']}\"\n",
    "        yield query\n",
    "\n",
    "for q in genPatternDefinedLabelInferenceQueries():\n",
    "    print(q)\n"
   ]
  },
  {
   "cell_type": "code",
   "execution_count": 21,
   "metadata": {},
   "outputs": [
    {
     "name": "stdout",
     "output_type": "stream",
     "text": [
      "MATCH (s:Person)-[:INVOLVED_IN]->()<-[:INVOLVED_IN]-(t:Person) MERGE (s)-[:_COLLABORATOR]->(t)\n",
      "MATCH (s:Person)-[:ACTED_IN]->()<-[:ACTED_IN]-(t:Person) MERGE (s)-[:_COACTOR]->(t)\n"
     ]
    }
   ],
   "source": [
    "def genPatternDefinedRelationshipInferenceQueries():\n",
    "    records, summary, keys = driver_ontology.execute_query(\n",
    "        \"\"\"MATCH (mdr:PatternDefinedRelationship)\n",
    "        RETURN mdr.name AS name, mdr.pattern AS pattern, mdr.sourceElementVariable AS sourceElementVariable, mdr.targetElementVariable AS targetElementVariable\"\"\",\n",
    "        database_=NEO4J_ONTOLOGY_DB_NAME,\n",
    "    )\n",
    "    for record in records:\n",
    "        query = f\"MATCH {record['pattern']} MERGE ({record['sourceElementVariable']})-[:{record['name']}]->({record['targetElementVariable']})\"\n",
    "        yield query\n",
    "\n",
    "for q in genPatternDefinedRelationshipInferenceQueries():\n",
    "    print(q)\n"
   ]
  },
  {
   "cell_type": "code",
   "execution_count": 22,
   "metadata": {},
   "outputs": [
    {
     "name": "stdout",
     "output_type": "stream",
     "text": [
      "MATCH (n:_KevinBacon) SET n:Actor\n",
      "MATCH (n:Actor) SET n:Person\n",
      "MATCH (n:Director) SET n:Person\n"
     ]
    }
   ],
   "source": [
    "def genSCOLabelInferenceQueries():\n",
    "    records, summary, keys = driver_ontology.execute_query(\n",
    "        \"\"\"MATCH (narrower:Label)-[:SCO]->(broader:Label)\n",
    "        RETURN narrower.name AS narrower, broader.name AS broader\"\"\",\n",
    "        database_=NEO4J_ONTOLOGY_DB_NAME,\n",
    "    )\n",
    "    for record in records:\n",
    "        query = f\"MATCH (n:{record['narrower']}) SET n:{record['broader']}\"\n",
    "        yield query\n",
    "\n",
    "for q in genSCOLabelInferenceQueries():\n",
    "    print(q)"
   ]
  },
  {
   "cell_type": "code",
   "execution_count": 23,
   "metadata": {},
   "outputs": [
    {
     "name": "stdout",
     "output_type": "stream",
     "text": [
      "MATCH (n)-[:ACTED_IN]->(m) MERGE (n)-[:INVOLVED_IN]->(m)\n",
      "MATCH (n)-[:DIRECTED]->(m) MERGE (n)-[:INVOLVED_IN]->(m)\n"
     ]
    }
   ],
   "source": [
    "def genImpliesRelationshipInferenceQueries():\n",
    "    records, summary, keys = driver_ontology.execute_query(\n",
    "        \"\"\"MATCH (narrower:Relationship)-[:IMPLIES]->(broader:Relationship)\n",
    "        RETURN narrower.name AS narrower, broader.name AS broader\"\"\",\n",
    "        database_=NEO4J_ONTOLOGY_DB_NAME,\n",
    "    )\n",
    "    for record in records:\n",
    "        query = f\"MATCH (n)-[:{record['narrower']}]->(m) MERGE (n)-[:{record['broader']}]->(m)\"\n",
    "        yield query\n",
    "\n",
    "for q in genImpliesRelationshipInferenceQueries():\n",
    "    print(q)"
   ]
  },
  {
   "cell_type": "code",
   "execution_count": 24,
   "metadata": {},
   "outputs": [
    {
     "name": "stdout",
     "output_type": "stream",
     "text": [
      "MATCH (n:Actor|_PersonActedInSome) SET n:Actor:_PersonActedInSome\n",
      "MATCH (n:Director|_PersonDirectedSome) SET n:Director:_PersonDirectedSome\n"
     ]
    }
   ],
   "source": [
    "def genEquivalentLabelInferenceQueries():\n",
    "    records, summary, keys = driver_ontology.execute_query(\n",
    "        \"\"\"MATCH (l1:Label)-[:EQUIVALENT]->(l2:Label)\n",
    "        RETURN l1.name AS l1, l2.name AS l2\"\"\",\n",
    "        database_=NEO4J_ONTOLOGY_DB_NAME,\n",
    "    )\n",
    "    for record in records:\n",
    "        query = f\"MATCH (n:{record['l1']}|{record['l2']}) SET n:{record['l1']}:{record['l2']}\"\n",
    "        yield query\n",
    "\n",
    "for q in genEquivalentLabelInferenceQueries():\n",
    "    print(q)"
   ]
  },
  {
   "cell_type": "code",
   "execution_count": 25,
   "metadata": {},
   "outputs": [
    {
     "name": "stdout",
     "output_type": "stream",
     "text": [
      "MATCH (n)-[:COLLABORATOR|_COLLABORATOR]->(m) MERGE (n)-[:COLLABORATOR]->(m) MERGE (m)-[:COLLABORATOR]->(n)\n",
      "MATCH (n)-[:COACTOR|_COACTOR]->(m) MERGE (n)-[:COACTOR]->(m) MERGE (m)-[:COACTOR]->(n)\n"
     ]
    }
   ],
   "source": [
    "def genEquivalentRelationshipInferenceQueries():\n",
    "    records, summary, keys = driver_ontology.execute_query(\n",
    "        \"\"\"MATCH (r1:Relationship)-[:EQUIVALENT]->(r2:Relationship)\n",
    "        RETURN r1.name AS r1, r2.name AS r2\"\"\",\n",
    "        database_=NEO4J_ONTOLOGY_DB_NAME,\n",
    "    )\n",
    "    for record in records:\n",
    "        query = f\"MATCH (n)-[:{record['r1']}|{record['r2']}]->(m) MERGE (n)-[:{record['r1']}]->(m) MERGE (m)-[:{record['r1']}]->(n)\"\n",
    "        yield query\n",
    "\n",
    "for q in genEquivalentRelationshipInferenceQueries():\n",
    "    print(q)"
   ]
  },
  {
   "cell_type": "code",
   "execution_count": 26,
   "metadata": {},
   "outputs": [
    {
     "name": "stdout",
     "output_type": "stream",
     "text": [
      "MATCH (n)-[:_COLLABORATOR]->(m) MERGE (m)-[:_COLLABORATOR]->(n)\n",
      "MATCH (n)-[:COLLABORATOR]->(m) MERGE (m)-[:COLLABORATOR]->(n)\n",
      "MATCH (n)-[:COACTOR]->(m) MERGE (m)-[:COACTOR]->(n)\n",
      "MATCH (n)-[:_COACTOR]->(m) MERGE (m)-[:_COACTOR]->(n)\n"
     ]
    }
   ],
   "source": [
    "def genSymmetricRelationshipInferenceQueries():\n",
    "    records, summary, keys = driver_ontology.execute_query(\n",
    "        \"\"\"MATCH (r:Relationship&Symmetric)\n",
    "        RETURN r.name AS sim_rel\"\"\",\n",
    "        database_=NEO4J_ONTOLOGY_DB_NAME,\n",
    "    )\n",
    "    for record in records:\n",
    "        query = f\"MATCH (n)-[:{record['sim_rel']}]->(m) MERGE (m)-[:{record['sim_rel']}]->(n)\"\n",
    "        yield query\n",
    "\n",
    "for q in genSymmetricRelationshipInferenceQueries():\n",
    "    print(q)"
   ]
  },
  {
   "cell_type": "code",
   "execution_count": 43,
   "metadata": {},
   "outputs": [
    {
     "name": "stdout",
     "output_type": "stream",
     "text": [
      "CYPHER runtime=parallel\n",
      "        MATCH (x:Actor)\n",
      "        CALL (x) {MATCH SHORTEST 1 (x)-[ca:COACTOR]-*(y:_KevinBacon) WITH ca LIMIT 1 WITH size(ca) AS kbn\n",
      "        WITH x, kbn\n",
      "        WHERE x.kb_number IS NULL OR x.kb_number <> kbn\n",
      "        SET x.kb_number = kbn }\n",
      "        IN CONCURRENT TRANSACTIONS OF 10 ROWS\n"
     ]
    }
   ],
   "source": [
    "def genPatternDefinedNodePropertyInferenceQueries():\n",
    "    records, summary, keys = driver_ontology.execute_query(\n",
    "        \"\"\"MATCH (n:Label)-[:HAS_PROPERTY]->(qdp:PatternDefinedNodeProperty)\n",
    "        RETURN n.name AS label, qdp.name AS property_name, qdp.pattern AS pattern, qdp.propertyOwnerVariable AS variable, qdp.valueVariable AS val_variable\"\"\",\n",
    "        database_=NEO4J_ONTOLOGY_DB_NAME,\n",
    "    )\n",
    "    for record in records:\n",
    "        query = f\"\"\"MATCH ({record['variable']}:{record['label']})\n",
    "        CALL ({record['variable']}) {{MATCH {record['pattern']}\n",
    "        WITH {record['variable']}, {record['val_variable']}\n",
    "        WHERE {record['variable']}.{record['property_name']} IS NULL OR {record['variable']}.{record['property_name']} <> {record['val_variable']}\n",
    "        SET {record['variable']}.{record['property_name']} = {record['val_variable']} }}\n",
    "        IN CONCURRENT TRANSACTIONS OF 10 ROWS\"\"\"\n",
    "        yield query\n",
    "\n",
    "for q in genPatternDefinedNodePropertyInferenceQueries():\n",
    "    print(q)"
   ]
  },
  {
   "cell_type": "code",
   "execution_count": 44,
   "metadata": {},
   "outputs": [
    {
     "data": {
      "text/plain": [
       "['MATCH (p:Person) WHERE EXISTS {(p)-[:DIRECTED]->()} SET p:_PersonDirectedSome',\n",
       " \"MATCH (p:Person {name: 'Kevin Bacon'}) SET p:_KevinBacon\",\n",
       " 'MATCH (p:Person) WHERE EXISTS {(p)-[:ACTED_IN]->()} SET p:_PersonActedInSome',\n",
       " 'MATCH (s:Person)-[:INVOLVED_IN]->()<-[:INVOLVED_IN]-(t:Person) MERGE (s)-[:_COLLABORATOR]->(t)',\n",
       " 'MATCH (s:Person)-[:ACTED_IN]->()<-[:ACTED_IN]-(t:Person) MERGE (s)-[:_COACTOR]->(t)',\n",
       " 'MATCH (n:_KevinBacon) SET n:Actor',\n",
       " 'MATCH (n:Actor) SET n:Person',\n",
       " 'MATCH (n:Director) SET n:Person',\n",
       " 'MATCH (n)-[:ACTED_IN]->(m) MERGE (n)-[:INVOLVED_IN]->(m)',\n",
       " 'MATCH (n)-[:DIRECTED]->(m) MERGE (n)-[:INVOLVED_IN]->(m)',\n",
       " 'MATCH (n:Actor|_PersonActedInSome) SET n:Actor:_PersonActedInSome',\n",
       " 'MATCH (n:Director|_PersonDirectedSome) SET n:Director:_PersonDirectedSome',\n",
       " 'MATCH (n)-[:COLLABORATOR|_COLLABORATOR]->(m) MERGE (n)-[:COLLABORATOR]->(m) MERGE (m)-[:COLLABORATOR]->(n)',\n",
       " 'MATCH (n)-[:COACTOR|_COACTOR]->(m) MERGE (n)-[:COACTOR]->(m) MERGE (m)-[:COACTOR]->(n)',\n",
       " 'MATCH (n)-[:_COLLABORATOR]->(m) MERGE (m)-[:_COLLABORATOR]->(n)',\n",
       " 'MATCH (n)-[:COLLABORATOR]->(m) MERGE (m)-[:COLLABORATOR]->(n)',\n",
       " 'MATCH (n)-[:COACTOR]->(m) MERGE (m)-[:COACTOR]->(n)',\n",
       " 'MATCH (n)-[:_COACTOR]->(m) MERGE (m)-[:_COACTOR]->(n)',\n",
       " 'CYPHER runtime=parallel\\n        MATCH (x:Actor)\\n        CALL (x) {MATCH SHORTEST 1 (x)-[ca:COACTOR]-*(y:_KevinBacon) WITH ca LIMIT 1 WITH size(ca) AS kbn\\n        WITH x, kbn\\n        WHERE x.kb_number IS NULL OR x.kb_number <> kbn\\n        SET x.kb_number = kbn }\\n        IN CONCURRENT TRANSACTIONS OF 10 ROWS']"
      ]
     },
     "execution_count": 44,
     "metadata": {},
     "output_type": "execute_result"
    }
   ],
   "source": [
    "inferenceRulesGenerators = [genPatternDefinedLabelInferenceQueries,\n",
    "                            genPatternDefinedRelationshipInferenceQueries,\n",
    "                            genSCOLabelInferenceQueries,\n",
    "                            genImpliesRelationshipInferenceQueries,\n",
    "                            genEquivalentLabelInferenceQueries,\n",
    "                            genEquivalentRelationshipInferenceQueries,\n",
    "                            genSymmetricRelationshipInferenceQueries,\n",
    "                            genPatternDefinedNodePropertyInferenceQueries]\n",
    "\n",
    "def genOntologyInferenceQueries(inferenceRulesGenerators):\n",
    "    for rule in inferenceRulesGenerators:\n",
    "        for q in rule():\n",
    "            yield q\n",
    "\n",
    "list(genOntologyInferenceQueries(inferenceRulesGenerators))"
   ]
  },
  {
   "cell_type": "code",
   "execution_count": 45,
   "metadata": {},
   "outputs": [],
   "source": [
    "def infer (rules, params={}):\n",
    "    \"\"\"\n",
    "    This is a function you can use if you want to run a set of inference rules\n",
    "    until a convergence is reached. why not use it in a RDF-like reasoning context?\n",
    "    \"\"\"\n",
    "    counter = 0\n",
    "    while True:\n",
    "        counter += 1\n",
    "        any_update = False\n",
    "        for rule in rules:\n",
    "            with driver_main.session(database=NEO4J_DB_NAME) as session:\n",
    "                result = session.run(rule, params)\n",
    "            any_new_update = result.consume().counters._contains_updates\n",
    "            any_update = any_update or any_new_update\n",
    "        if not any_update:\n",
    "            break"
   ]
  },
  {
   "cell_type": "code",
   "execution_count": 46,
   "metadata": {},
   "outputs": [
    {
     "ename": "ClientError",
     "evalue": "{code: Neo.ClientError.Statement.RuntimeUnsupportedError} {message: The parallel runtime does not support updating queries. Please use another runtime}",
     "output_type": "error",
     "traceback": [
      "\u001b[0;31m---------------------------------------------------------------------------\u001b[0m",
      "\u001b[0;31mGqlError\u001b[0m                                  Traceback (most recent call last)",
      "\u001b[0;31mGqlError\u001b[0m: {gql_status: 22N46} {gql_status_description: error: data exception - unsupported use of parallel runtime. Parallel runtime does not support updating queries or a change in the state of transactions. Use another runtime.} {message: 22N46: Parallel runtime does not support updating queries or a change in the state of transactions. Use another runtime.} {diagnostic_record: {'_classification': 'CLIENT_ERROR', 'OPERATION': '', 'OPERATION_CODE': '0', 'CURRENT_SCHEMA': '/'}} {raw_classification: CLIENT_ERROR}",
      "\nThe above exception was the direct cause of the following exception:\n",
      "\u001b[0;31mClientError\u001b[0m                               Traceback (most recent call last)",
      "Cell \u001b[0;32mIn[46], line 1\u001b[0m\n\u001b[0;32m----> 1\u001b[0m \u001b[43minfer\u001b[49m\u001b[43m(\u001b[49m\u001b[38;5;28;43mlist\u001b[39;49m\u001b[43m(\u001b[49m\u001b[43mgenOntologyInferenceQueries\u001b[49m\u001b[43m(\u001b[49m\u001b[43minferenceRulesGenerators\u001b[49m\u001b[43m)\u001b[49m\u001b[43m)\u001b[49m\u001b[43m)\u001b[49m\n",
      "Cell \u001b[0;32mIn[45], line 12\u001b[0m, in \u001b[0;36minfer\u001b[0;34m(rules, params)\u001b[0m\n\u001b[1;32m     10\u001b[0m \u001b[38;5;28;01mfor\u001b[39;00m rule \u001b[38;5;129;01min\u001b[39;00m rules:\n\u001b[1;32m     11\u001b[0m     \u001b[38;5;28;01mwith\u001b[39;00m driver_main\u001b[38;5;241m.\u001b[39msession(database\u001b[38;5;241m=\u001b[39mNEO4J_DB_NAME) \u001b[38;5;28;01mas\u001b[39;00m session:\n\u001b[0;32m---> 12\u001b[0m         result \u001b[38;5;241m=\u001b[39m \u001b[43msession\u001b[49m\u001b[38;5;241;43m.\u001b[39;49m\u001b[43mrun\u001b[49m\u001b[43m(\u001b[49m\u001b[43mrule\u001b[49m\u001b[43m,\u001b[49m\u001b[43m \u001b[49m\u001b[43mparams\u001b[49m\u001b[43m)\u001b[49m\n\u001b[1;32m     13\u001b[0m     any_new_update \u001b[38;5;241m=\u001b[39m result\u001b[38;5;241m.\u001b[39mconsume()\u001b[38;5;241m.\u001b[39mcounters\u001b[38;5;241m.\u001b[39m_contains_updates\n\u001b[1;32m     14\u001b[0m     any_update \u001b[38;5;241m=\u001b[39m any_update \u001b[38;5;129;01mor\u001b[39;00m any_new_update\n",
      "File \u001b[0;32m~/Documents/demo/LPG semantics/.venv/lib/python3.13/site-packages/neo4j/_sync/work/session.py:328\u001b[0m, in \u001b[0;36mSession.run\u001b[0;34m(self, query, parameters, **kwargs)\u001b[0m\n\u001b[1;32m    326\u001b[0m bookmarks \u001b[38;5;241m=\u001b[39m \u001b[38;5;28mself\u001b[39m\u001b[38;5;241m.\u001b[39m_get_bookmarks()\n\u001b[1;32m    327\u001b[0m parameters \u001b[38;5;241m=\u001b[39m \u001b[38;5;28mdict\u001b[39m(parameters \u001b[38;5;129;01mor\u001b[39;00m {}, \u001b[38;5;241m*\u001b[39m\u001b[38;5;241m*\u001b[39mkwargs)\n\u001b[0;32m--> 328\u001b[0m \u001b[38;5;28;43mself\u001b[39;49m\u001b[38;5;241;43m.\u001b[39;49m\u001b[43m_auto_result\u001b[49m\u001b[38;5;241;43m.\u001b[39;49m\u001b[43m_run\u001b[49m\u001b[43m(\u001b[49m\n\u001b[1;32m    329\u001b[0m \u001b[43m    \u001b[49m\u001b[43mquery\u001b[49m\u001b[43m,\u001b[49m\n\u001b[1;32m    330\u001b[0m \u001b[43m    \u001b[49m\u001b[43mparameters\u001b[49m\u001b[43m,\u001b[49m\n\u001b[1;32m    331\u001b[0m \u001b[43m    \u001b[49m\u001b[38;5;28;43mself\u001b[39;49m\u001b[38;5;241;43m.\u001b[39;49m\u001b[43m_config\u001b[49m\u001b[38;5;241;43m.\u001b[39;49m\u001b[43mdatabase\u001b[49m\u001b[43m,\u001b[49m\n\u001b[1;32m    332\u001b[0m \u001b[43m    \u001b[49m\u001b[38;5;28;43mself\u001b[39;49m\u001b[38;5;241;43m.\u001b[39;49m\u001b[43m_config\u001b[49m\u001b[38;5;241;43m.\u001b[39;49m\u001b[43mimpersonated_user\u001b[49m\u001b[43m,\u001b[49m\n\u001b[1;32m    333\u001b[0m \u001b[43m    \u001b[49m\u001b[38;5;28;43mself\u001b[39;49m\u001b[38;5;241;43m.\u001b[39;49m\u001b[43m_config\u001b[49m\u001b[38;5;241;43m.\u001b[39;49m\u001b[43mdefault_access_mode\u001b[49m\u001b[43m,\u001b[49m\n\u001b[1;32m    334\u001b[0m \u001b[43m    \u001b[49m\u001b[43mbookmarks\u001b[49m\u001b[43m,\u001b[49m\n\u001b[1;32m    335\u001b[0m \u001b[43m    \u001b[49m\u001b[38;5;28;43mself\u001b[39;49m\u001b[38;5;241;43m.\u001b[39;49m\u001b[43m_config\u001b[49m\u001b[38;5;241;43m.\u001b[39;49m\u001b[43mnotifications_min_severity\u001b[49m\u001b[43m,\u001b[49m\n\u001b[1;32m    336\u001b[0m \u001b[43m    \u001b[49m\u001b[38;5;28;43mself\u001b[39;49m\u001b[38;5;241;43m.\u001b[39;49m\u001b[43m_config\u001b[49m\u001b[38;5;241;43m.\u001b[39;49m\u001b[43mnotifications_disabled_classifications\u001b[49m\u001b[43m,\u001b[49m\n\u001b[1;32m    337\u001b[0m \u001b[43m\u001b[49m\u001b[43m)\u001b[49m\n\u001b[1;32m    339\u001b[0m \u001b[38;5;28;01mreturn\u001b[39;00m \u001b[38;5;28mself\u001b[39m\u001b[38;5;241m.\u001b[39m_auto_result\n",
      "File \u001b[0;32m~/Documents/demo/LPG semantics/.venv/lib/python3.13/site-packages/neo4j/_sync/work/result.py:236\u001b[0m, in \u001b[0;36mResult._run\u001b[0;34m(self, query, parameters, db, imp_user, access_mode, bookmarks, notifications_min_severity, notifications_disabled_classifications)\u001b[0m\n\u001b[1;32m    234\u001b[0m \u001b[38;5;28mself\u001b[39m\u001b[38;5;241m.\u001b[39m_pull()\n\u001b[1;32m    235\u001b[0m \u001b[38;5;28mself\u001b[39m\u001b[38;5;241m.\u001b[39m_connection\u001b[38;5;241m.\u001b[39msend_all()\n\u001b[0;32m--> 236\u001b[0m \u001b[38;5;28;43mself\u001b[39;49m\u001b[38;5;241;43m.\u001b[39;49m\u001b[43m_attach\u001b[49m\u001b[43m(\u001b[49m\u001b[43m)\u001b[49m\n",
      "File \u001b[0;32m~/Documents/demo/LPG semantics/.venv/lib/python3.13/site-packages/neo4j/_sync/work/result.py:430\u001b[0m, in \u001b[0;36mResult._attach\u001b[0;34m(self)\u001b[0m\n\u001b[1;32m    428\u001b[0m \u001b[38;5;28;01mif\u001b[39;00m \u001b[38;5;28mself\u001b[39m\u001b[38;5;241m.\u001b[39m_exhausted \u001b[38;5;129;01mis\u001b[39;00m \u001b[38;5;28;01mFalse\u001b[39;00m:\n\u001b[1;32m    429\u001b[0m     \u001b[38;5;28;01mwhile\u001b[39;00m \u001b[38;5;28mself\u001b[39m\u001b[38;5;241m.\u001b[39m_attached \u001b[38;5;129;01mis\u001b[39;00m \u001b[38;5;28;01mFalse\u001b[39;00m:\n\u001b[0;32m--> 430\u001b[0m         \u001b[38;5;28;43mself\u001b[39;49m\u001b[38;5;241;43m.\u001b[39;49m\u001b[43m_connection\u001b[49m\u001b[38;5;241;43m.\u001b[39;49m\u001b[43mfetch_message\u001b[49m\u001b[43m(\u001b[49m\u001b[43m)\u001b[49m\n",
      "File \u001b[0;32m~/Documents/demo/LPG semantics/.venv/lib/python3.13/site-packages/neo4j/_sync/io/_common.py:184\u001b[0m, in \u001b[0;36mConnectionErrorHandler.__getattr__.<locals>.outer.<locals>.inner\u001b[0;34m(*args, **kwargs)\u001b[0m\n\u001b[1;32m    182\u001b[0m \u001b[38;5;28;01mdef\u001b[39;00m\u001b[38;5;250m \u001b[39m\u001b[38;5;21minner\u001b[39m(\u001b[38;5;241m*\u001b[39margs, \u001b[38;5;241m*\u001b[39m\u001b[38;5;241m*\u001b[39mkwargs):\n\u001b[1;32m    183\u001b[0m     \u001b[38;5;28;01mtry\u001b[39;00m:\n\u001b[0;32m--> 184\u001b[0m         \u001b[43mfunc\u001b[49m\u001b[43m(\u001b[49m\u001b[38;5;241;43m*\u001b[39;49m\u001b[43margs\u001b[49m\u001b[43m,\u001b[49m\u001b[43m \u001b[49m\u001b[38;5;241;43m*\u001b[39;49m\u001b[38;5;241;43m*\u001b[39;49m\u001b[43mkwargs\u001b[49m\u001b[43m)\u001b[49m\n\u001b[1;32m    185\u001b[0m     \u001b[38;5;28;01mexcept\u001b[39;00m (Neo4jError, ServiceUnavailable, SessionExpired) \u001b[38;5;28;01mas\u001b[39;00m exc:\n\u001b[1;32m    186\u001b[0m         \u001b[38;5;28;01massert\u001b[39;00m \u001b[38;5;129;01mnot\u001b[39;00m asyncio\u001b[38;5;241m.\u001b[39miscoroutinefunction(\u001b[38;5;28mself\u001b[39m\u001b[38;5;241m.\u001b[39m__on_error)\n",
      "File \u001b[0;32m~/Documents/demo/LPG semantics/.venv/lib/python3.13/site-packages/neo4j/_sync/io/_bolt.py:864\u001b[0m, in \u001b[0;36mBolt.fetch_message\u001b[0;34m(self)\u001b[0m\n\u001b[1;32m    860\u001b[0m \u001b[38;5;66;03m# Receive exactly one message\u001b[39;00m\n\u001b[1;32m    861\u001b[0m tag, fields \u001b[38;5;241m=\u001b[39m \u001b[38;5;28mself\u001b[39m\u001b[38;5;241m.\u001b[39minbox\u001b[38;5;241m.\u001b[39mpop(\n\u001b[1;32m    862\u001b[0m     hydration_hooks\u001b[38;5;241m=\u001b[39m\u001b[38;5;28mself\u001b[39m\u001b[38;5;241m.\u001b[39mresponses[\u001b[38;5;241m0\u001b[39m]\u001b[38;5;241m.\u001b[39mhydration_hooks\n\u001b[1;32m    863\u001b[0m )\n\u001b[0;32m--> 864\u001b[0m res \u001b[38;5;241m=\u001b[39m \u001b[38;5;28;43mself\u001b[39;49m\u001b[38;5;241;43m.\u001b[39;49m\u001b[43m_process_message\u001b[49m\u001b[43m(\u001b[49m\u001b[43mtag\u001b[49m\u001b[43m,\u001b[49m\u001b[43m \u001b[49m\u001b[43mfields\u001b[49m\u001b[43m)\u001b[49m\n\u001b[1;32m    865\u001b[0m \u001b[38;5;28mself\u001b[39m\u001b[38;5;241m.\u001b[39midle_since \u001b[38;5;241m=\u001b[39m monotonic()\n\u001b[1;32m    866\u001b[0m \u001b[38;5;28;01mreturn\u001b[39;00m res\n",
      "File \u001b[0;32m~/Documents/demo/LPG semantics/.venv/lib/python3.13/site-packages/neo4j/_sync/io/_bolt5.py:1208\u001b[0m, in \u001b[0;36mBolt5x7._process_message\u001b[0;34m(self, tag, fields)\u001b[0m\n\u001b[1;32m   1206\u001b[0m \u001b[38;5;28mself\u001b[39m\u001b[38;5;241m.\u001b[39m_enrich_error_diagnostic_record(summary_metadata)\n\u001b[1;32m   1207\u001b[0m \u001b[38;5;28;01mtry\u001b[39;00m:\n\u001b[0;32m-> 1208\u001b[0m     \u001b[43mresponse\u001b[49m\u001b[38;5;241;43m.\u001b[39;49m\u001b[43mon_failure\u001b[49m\u001b[43m(\u001b[49m\u001b[43msummary_metadata\u001b[49m\u001b[43m \u001b[49m\u001b[38;5;129;43;01mor\u001b[39;49;00m\u001b[43m \u001b[49m\u001b[43m{\u001b[49m\u001b[43m}\u001b[49m\u001b[43m)\u001b[49m\n\u001b[1;32m   1209\u001b[0m \u001b[38;5;28;01mexcept\u001b[39;00m (ServiceUnavailable, DatabaseUnavailable):\n\u001b[1;32m   1210\u001b[0m     \u001b[38;5;28;01mif\u001b[39;00m \u001b[38;5;28mself\u001b[39m\u001b[38;5;241m.\u001b[39mpool:\n",
      "File \u001b[0;32m~/Documents/demo/LPG semantics/.venv/lib/python3.13/site-packages/neo4j/_sync/io/_common.py:254\u001b[0m, in \u001b[0;36mResponse.on_failure\u001b[0;34m(self, metadata)\u001b[0m\n\u001b[1;32m    252\u001b[0m handler \u001b[38;5;241m=\u001b[39m \u001b[38;5;28mself\u001b[39m\u001b[38;5;241m.\u001b[39mhandlers\u001b[38;5;241m.\u001b[39mget(\u001b[38;5;124m\"\u001b[39m\u001b[38;5;124mon_summary\u001b[39m\u001b[38;5;124m\"\u001b[39m)\n\u001b[1;32m    253\u001b[0m Util\u001b[38;5;241m.\u001b[39mcallback(handler)\n\u001b[0;32m--> 254\u001b[0m \u001b[38;5;28;01mraise\u001b[39;00m \u001b[38;5;28mself\u001b[39m\u001b[38;5;241m.\u001b[39m_hydrate_error(metadata)\n",
      "\u001b[0;31mClientError\u001b[0m: {code: Neo.ClientError.Statement.RuntimeUnsupportedError} {message: The parallel runtime does not support updating queries. Please use another runtime}"
     ]
    }
   ],
   "source": [
    "infer(list(genOntologyInferenceQueries(inferenceRulesGenerators)))"
   ]
  },
  {
   "cell_type": "code",
   "execution_count": null,
   "metadata": {},
   "outputs": [],
   "source": []
  }
 ],
 "metadata": {
  "kernelspec": {
   "display_name": ".venv",
   "language": "python",
   "name": "python3"
  },
  "language_info": {
   "codemirror_mode": {
    "name": "ipython",
    "version": 3
   },
   "file_extension": ".py",
   "mimetype": "text/x-python",
   "name": "python",
   "nbconvert_exporter": "python",
   "pygments_lexer": "ipython3",
   "version": "3.13.1"
  }
 },
 "nbformat": 4,
 "nbformat_minor": 2
}
