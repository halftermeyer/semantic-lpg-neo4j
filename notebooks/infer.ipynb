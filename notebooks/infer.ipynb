{
 "cells": [
  {
   "cell_type": "code",
   "execution_count": 45,
   "metadata": {},
   "outputs": [],
   "source": [
    "import os\n",
    "\n",
    "NEO4J_URI = os.environ['NEO4J_URI']\n",
    "NEO4J_USERNAME = os.environ['NEO4J_USERNAME']\n",
    "NEO4J_PASSWORD = os.environ['NEO4J_PASSWORD']"
   ]
  },
  {
   "cell_type": "code",
   "execution_count": 46,
   "metadata": {},
   "outputs": [],
   "source": [
    "from neo4j import GraphDatabase\n",
    "driver = GraphDatabase.driver(NEO4J_URI, auth=(NEO4J_USERNAME, NEO4J_PASSWORD))"
   ]
  },
  {
   "cell_type": "code",
   "execution_count": 47,
   "metadata": {},
   "outputs": [
    {
     "name": "stdout",
     "output_type": "stream",
     "text": [
      "MATCH (p:Person) WHERE EXISTS {(p)-[:DIRECTED]->()} SET p:_PersonDirectedSome\n",
      "MATCH (p:Person {name: 'Kevin Bacon'}) SET p:_KevinBacon\n",
      "MATCH (p:Person) WHERE EXISTS {(p)-[:ACTED_IN]->()} SET p:_PersonActedInSome\n"
     ]
    }
   ],
   "source": [
    "def genMatchDefinedLabelInferenceQueries():\n",
    "    records, summary, keys = driver.execute_query(\n",
    "        \"\"\"MATCH (mdl:MatchDefinedLabel)\n",
    "        RETURN mdl.name AS name, mdl.pattern AS pattern, mdl.classElementVariable AS classElementVariable\"\"\",\n",
    "        database_=\"ontology\",\n",
    "    )\n",
    "    for record in records:\n",
    "        query = f\"MATCH {record['pattern']} SET {record['classElementVariable']}:{record['name']}\"\n",
    "        yield query\n",
    "\n",
    "for q in genMatchDefinedLabelInferenceQueries():\n",
    "    print(q)\n"
   ]
  },
  {
   "cell_type": "code",
   "execution_count": 48,
   "metadata": {},
   "outputs": [
    {
     "name": "stdout",
     "output_type": "stream",
     "text": [
      "MATCH (s:Person)-[:INVOLVED_IN]->()<-[:INVOLVED_IN]-(t:Person) MERGE (s)-[:_COLLABORATOR]->(t)\n",
      "MATCH (s:Person)-[:ACTED_IN]->()<-[:ACTED_IN]-(t:Person) MERGE (s)-[:_COACTOR]->(t)\n"
     ]
    }
   ],
   "source": [
    "def genMatchDefinedRelationshipInferenceQueries():\n",
    "    records, summary, keys = driver.execute_query(\n",
    "        \"\"\"MATCH (mdr:MatchDefinedRelationship)\n",
    "        RETURN mdr.name AS name, mdr.pattern AS pattern, mdr.sourceElementVariable AS sourceElementVariable, mdr.targetElementVariable AS targetElementVariable\"\"\",\n",
    "        database_=\"ontology\",\n",
    "    )\n",
    "    for record in records:\n",
    "        query = f\"MATCH {record['pattern']} MERGE ({record['sourceElementVariable']})-[:{record['name']}]->({record['targetElementVariable']})\"\n",
    "        yield query\n",
    "\n",
    "for q in genMatchDefinedRelationshipInferenceQueries():\n",
    "    print(q)\n"
   ]
  },
  {
   "cell_type": "code",
   "execution_count": 49,
   "metadata": {},
   "outputs": [
    {
     "name": "stdout",
     "output_type": "stream",
     "text": [
      "MATCH (n:_KevinBacon) SET n:Actor\n",
      "MATCH (n:Actor) SET n:Person\n",
      "MATCH (n:Director) SET n:Person\n"
     ]
    }
   ],
   "source": [
    "def genSCOLabelInferenceQueries():\n",
    "    records, summary, keys = driver.execute_query(\n",
    "        \"\"\"MATCH (narrower:Label)-[:SCO]->(broader:Label)\n",
    "        RETURN narrower.name AS narrower, broader.name AS broader\"\"\",\n",
    "        database_=\"ontology\",\n",
    "    )\n",
    "    for record in records:\n",
    "        query = f\"MATCH (n:{record['narrower']}) SET n:{record['broader']}\"\n",
    "        yield query\n",
    "\n",
    "for q in genSCOLabelInferenceQueries():\n",
    "    print(q)"
   ]
  },
  {
   "cell_type": "code",
   "execution_count": 50,
   "metadata": {},
   "outputs": [
    {
     "name": "stdout",
     "output_type": "stream",
     "text": [
      "MATCH (n)-[:ACTED_IN]->(m) MERGE (n)-[:INVOLVED_IN]->(m)\n"
     ]
    }
   ],
   "source": [
    "def genImpliesRelationshipInferenceQueries():\n",
    "    records, summary, keys = driver.execute_query(\n",
    "        \"\"\"MATCH (narrower:Relationship)-[:IMPLIES]->(broader:Relationship)\n",
    "        RETURN narrower.name AS narrower, broader.name AS broader\"\"\",\n",
    "        database_=\"ontology\",\n",
    "    )\n",
    "    for record in records:\n",
    "        query = f\"MATCH (n)-[:{record['narrower']}]->(m) MERGE (n)-[:{record['broader']}]->(m)\"\n",
    "        yield query\n",
    "\n",
    "for q in genImpliesRelationshipInferenceQueries():\n",
    "    print(q)"
   ]
  },
  {
   "cell_type": "code",
   "execution_count": 51,
   "metadata": {},
   "outputs": [
    {
     "name": "stdout",
     "output_type": "stream",
     "text": [
      "MATCH (n:Actor|_PersonActedInSome) SET n:Actor:_PersonActedInSome\n",
      "MATCH (n:Director|_PersonDirectedSome) SET n:Director:_PersonDirectedSome\n"
     ]
    }
   ],
   "source": [
    "def genEquivalentLabelInferenceQueries():\n",
    "    records, summary, keys = driver.execute_query(\n",
    "        \"\"\"MATCH (l1:Label)-[:EQUIVALENT]->(l2:Label)\n",
    "        RETURN l1.name AS l1, l2.name AS l2\"\"\",\n",
    "        database_=\"ontology\",\n",
    "    )\n",
    "    for record in records:\n",
    "        query = f\"MATCH (n:{record['l1']}|{record['l2']}) SET n:{record['l1']}:{record['l2']}\"\n",
    "        yield query\n",
    "\n",
    "for q in genEquivalentLabelInferenceQueries():\n",
    "    print(q)"
   ]
  },
  {
   "cell_type": "code",
   "execution_count": 52,
   "metadata": {},
   "outputs": [
    {
     "name": "stdout",
     "output_type": "stream",
     "text": [
      "MATCH (n)-[:COLLABORATOR|_COLLABORATOR]->(m) MERGE (n)-[:COLLABORATOR]->(m) MERGE (m)-[:COLLABORATOR]->(n)\n",
      "MATCH (n)-[:COACTOR|_COACTOR]->(m) MERGE (n)-[:COACTOR]->(m) MERGE (m)-[:COACTOR]->(n)\n"
     ]
    }
   ],
   "source": [
    "def genEquivalentRelationshipInferenceQueries():\n",
    "    records, summary, keys = driver.execute_query(\n",
    "        \"\"\"MATCH (r1:Relationship)-[:EQUIVALENT]->(r2:Relationship)\n",
    "        RETURN r1.name AS r1, r2.name AS r2\"\"\",\n",
    "        database_=\"ontology\",\n",
    "    )\n",
    "    for record in records:\n",
    "        query = f\"MATCH (n)-[:{record['r1']}|{record['r2']}]->(m) MERGE (n)-[:{record['r1']}]->(m) MERGE (m)-[:{record['r1']}]->(n)\"\n",
    "        yield query\n",
    "\n",
    "for q in genEquivalentRelationshipInferenceQueries():\n",
    "    print(q)"
   ]
  },
  {
   "cell_type": "code",
   "execution_count": 53,
   "metadata": {},
   "outputs": [
    {
     "name": "stdout",
     "output_type": "stream",
     "text": [
      "MATCH (n)-[:_COLLABORATOR]->(m) MERGE (m)-[:_COLLABORATOR]->(n)\n",
      "MATCH (n)-[:COLLABORATOR]->(m) MERGE (m)-[:COLLABORATOR]->(n)\n",
      "MATCH (n)-[:COACTOR]->(m) MERGE (m)-[:COACTOR]->(n)\n",
      "MATCH (n)-[:_COACTOR]->(m) MERGE (m)-[:_COACTOR]->(n)\n"
     ]
    }
   ],
   "source": [
    "def genSymmetricRelationshipInferenceQueries():\n",
    "    records, summary, keys = driver.execute_query(\n",
    "        \"\"\"MATCH (r:Relationship&Symmetric)\n",
    "        RETURN r.name AS sim_rel\"\"\",\n",
    "        database_=\"ontology\",\n",
    "    )\n",
    "    for record in records:\n",
    "        query = f\"MATCH (n)-[:{record['sim_rel']}]->(m) MERGE (m)-[:{record['sim_rel']}]->(n)\"\n",
    "        yield query\n",
    "\n",
    "for q in genSymmetricRelationshipInferenceQueries():\n",
    "    print(q)"
   ]
  },
  {
   "cell_type": "code",
   "execution_count": 54,
   "metadata": {},
   "outputs": [
    {
     "name": "stdout",
     "output_type": "stream",
     "text": [
      "MATCH (x:Actor)\n",
      "        CALL (x) { MATCH SHORTEST 1 (x)-[ca:COACTOR]-*(y:_KevinBacon) WITH ca LIMIT 1 WITH size(ca) AS kbn\n",
      "        WHERE x.kb_number IS NULL OR x.kb_number <> kbn\n",
      "        SET x.kb_number = kbn }\n",
      "        IN CONCURRENT TRANSACTIONS OF 10 ROWS\n"
     ]
    }
   ],
   "source": [
    "def genMatchDefinedNodePropertyInferenceQueries():\n",
    "    records, summary, keys = driver.execute_query(\n",
    "        \"\"\"MATCH (n:Label)-[:HAS_PROPERTY]->(qdp:MatchDefinedNodeProperty)\n",
    "        RETURN n.name AS label, qdp.name AS property_name, qdp.value AS property_value, qdp.propertyOwnerVariable AS variable, qdp.valueVariable AS val_variable\"\"\",\n",
    "        database_=\"ontology\",\n",
    "    )\n",
    "    for record in records:\n",
    "        query = f\"\"\"MATCH ({record['variable']}:{record['label']})\n",
    "        CALL ({record['variable']}) {{ {record['property_value']}\n",
    "        WHERE {record['variable']}.{record['property_name']} IS NULL OR {record['variable']}.{record['property_name']} <> {record['val_variable']}\n",
    "        SET {record['variable']}.{record['property_name']} = {record['val_variable']} }}\n",
    "        IN CONCURRENT TRANSACTIONS OF 10 ROWS\"\"\"\n",
    "        yield query\n",
    "\n",
    "for q in genMatchDefinedNodePropertyInferenceQueries():\n",
    "    print(q)"
   ]
  },
  {
   "cell_type": "code",
   "execution_count": 55,
   "metadata": {},
   "outputs": [
    {
     "data": {
      "text/plain": [
       "['MATCH (p:Person) WHERE EXISTS {(p)-[:DIRECTED]->()} SET p:_PersonDirectedSome',\n",
       " \"MATCH (p:Person {name: 'Kevin Bacon'}) SET p:_KevinBacon\",\n",
       " 'MATCH (p:Person) WHERE EXISTS {(p)-[:ACTED_IN]->()} SET p:_PersonActedInSome',\n",
       " 'MATCH (s:Person)-[:INVOLVED_IN]->()<-[:INVOLVED_IN]-(t:Person) MERGE (s)-[:_COLLABORATOR]->(t)',\n",
       " 'MATCH (s:Person)-[:ACTED_IN]->()<-[:ACTED_IN]-(t:Person) MERGE (s)-[:_COACTOR]->(t)',\n",
       " 'MATCH (n:_KevinBacon) SET n:Actor',\n",
       " 'MATCH (n:Actor) SET n:Person',\n",
       " 'MATCH (n:Director) SET n:Person',\n",
       " 'MATCH (n)-[:ACTED_IN]->(m) MERGE (n)-[:INVOLVED_IN]->(m)',\n",
       " 'MATCH (n:Actor|_PersonActedInSome) SET n:Actor:_PersonActedInSome',\n",
       " 'MATCH (n:Director|_PersonDirectedSome) SET n:Director:_PersonDirectedSome',\n",
       " 'MATCH (n)-[:COLLABORATOR|_COLLABORATOR]->(m) MERGE (n)-[:COLLABORATOR]->(m) MERGE (m)-[:COLLABORATOR]->(n)',\n",
       " 'MATCH (n)-[:COACTOR|_COACTOR]->(m) MERGE (n)-[:COACTOR]->(m) MERGE (m)-[:COACTOR]->(n)',\n",
       " 'MATCH (n)-[:_COLLABORATOR]->(m) MERGE (m)-[:_COLLABORATOR]->(n)',\n",
       " 'MATCH (n)-[:COLLABORATOR]->(m) MERGE (m)-[:COLLABORATOR]->(n)',\n",
       " 'MATCH (n)-[:COACTOR]->(m) MERGE (m)-[:COACTOR]->(n)',\n",
       " 'MATCH (n)-[:_COACTOR]->(m) MERGE (m)-[:_COACTOR]->(n)',\n",
       " 'MATCH (x:Actor)\\n        CALL (x) { MATCH SHORTEST 1 (x)-[ca:COACTOR]-*(y:_KevinBacon) WITH ca LIMIT 1 WITH size(ca) AS kbn\\n        WHERE x.kb_number IS NULL OR x.kb_number <> kbn\\n        SET x.kb_number = kbn }\\n        IN CONCURRENT TRANSACTIONS OF 10 ROWS']"
      ]
     },
     "execution_count": 55,
     "metadata": {},
     "output_type": "execute_result"
    }
   ],
   "source": [
    "inferenceRulesGenerators = [genMatchDefinedLabelInferenceQueries,\n",
    "                            genMatchDefinedRelationshipInferenceQueries,\n",
    "                            genSCOLabelInferenceQueries,\n",
    "                            genImpliesRelationshipInferenceQueries,\n",
    "                            genEquivalentLabelInferenceQueries,\n",
    "                            genEquivalentRelationshipInferenceQueries,\n",
    "                            genSymmetricRelationshipInferenceQueries,\n",
    "                            genMatchDefinedNodePropertyInferenceQueries]\n",
    "\n",
    "def genOntologyInferenceQueries(inferenceRulesGenerators):\n",
    "    for rule in inferenceRulesGenerators:\n",
    "        for q in rule():\n",
    "            yield q\n",
    "\n",
    "list(genOntologyInferenceQueries(inferenceRulesGenerators))"
   ]
  },
  {
   "cell_type": "code",
   "execution_count": 56,
   "metadata": {},
   "outputs": [],
   "source": [
    "def infer (rules, params={}):\n",
    "    \"\"\"\n",
    "    This is a function you can use if you want to run a set of inference rules\n",
    "    until a convergence is reached. why not use it in a RDF-like reasoning context?\n",
    "    \"\"\"\n",
    "    counter = 0\n",
    "    while True:\n",
    "        counter += 1\n",
    "        any_update = False\n",
    "        for rule in rules:\n",
    "            with driver.session(database=\"neo4j\") as session:\n",
    "                result = session.run(rule, params)\n",
    "            any_new_update = result.consume().counters._contains_updates\n",
    "            any_update = any_update or any_new_update\n",
    "        if not any_update:\n",
    "            break"
   ]
  },
  {
   "cell_type": "code",
   "execution_count": 57,
   "metadata": {},
   "outputs": [],
   "source": [
    "infer(list(genOntologyInferenceQueries(inferenceRulesGenerators)))"
   ]
  },
  {
   "cell_type": "code",
   "execution_count": null,
   "metadata": {},
   "outputs": [],
   "source": []
  }
 ],
 "metadata": {
  "kernelspec": {
   "display_name": ".venv",
   "language": "python",
   "name": "python3"
  },
  "language_info": {
   "codemirror_mode": {
    "name": "ipython",
    "version": 3
   },
   "file_extension": ".py",
   "mimetype": "text/x-python",
   "name": "python",
   "nbconvert_exporter": "python",
   "pygments_lexer": "ipython3",
   "version": "3.13.1"
  }
 },
 "nbformat": 4,
 "nbformat_minor": 2
}
